{
  "nbformat": 4,
  "nbformat_minor": 0,
  "metadata": {
    "colab": {
      "private_outputs": true,
      "provenance": []
    },
    "kernelspec": {
      "name": "python3",
      "display_name": "Python 3"
    },
    "language_info": {
      "name": "python"
    }
  },
  "cells": [
    {
      "cell_type": "markdown",
      "source": [
        "# Python Basics Questions\n",
        "\n",
        "1. What is Python, and why is it popular?\n",
        " -  Python is a versatile, high-level programming language known for its readability and ease of use, making it popular for a wide range of applications, including web development, data analysis, machine learning, and automation.\n",
        "\n",
        "2. What is an interpreter in Python?\n",
        " - In Python, an interpreter is a program that reads and executes python code line by line.\n",
        "\n",
        "3. What are pre-defined keywords in Python?\n",
        " - False, None, True, and, as, assert, async, await, break, class, continue, def, del, elif, else, except, finally, for, from, global, if, import, in, is, lambda, nonlocal, not, or, pass, raise, return, try, while, with, yield.\n",
        "\n",
        "4. Can keywords be used as variable names?\n",
        " - Keywords cannot be used as variable names.\n",
        "\n",
        "5.  What is mutability in Python?\n",
        " - Objects/container whose state or value can be changed after thet are created are called as mutable objects or container also called as item assighnment.\n",
        "\n",
        "6. Why are lists mutable, but tuples are immutable?\n",
        " - Tuples use parentheses instead of square brackets, and the items in tuples cannot be modified (but the items in lists can be modified). We often call lists mutable (meaning they can be changed) and tuples immutable (meaning they cannot be changed).\n",
        "\n",
        "7. What is the difference between “==” and “is” operators in Python?\n",
        " - The \"==\" and \"is\" operators in Python serve distinct comparison purposes. The \"==\" operator checks for equality of value, while the \"is\" operator checks for identity.\n",
        "\n",
        "8. What are logical operators in Python?\n",
        " - Logical operators in Python are used to combine or modify conditional statements. They work with boolean values (True or False) and return a boolean result. There are three main logical operators in Python: and, or, and not.\n",
        "\n",
        "9. What is type casting in Python?\n",
        " - Type casting in Python, also known as type conversion, refers to the process of changing the data type of a variable from one type to another. This is often necessary to perform operations that require specific data types or to ensure compatibility between different parts of a program.\n",
        "\n",
        "10. What is the difference between implicit and explicit type casting?\n",
        " - Implicit-It's an automatic conversion handled by the compiler.  \n",
        "   Explicit-It's a manual conversion where the programmer specifies the desired data type.\n",
        "\n",
        "11. What is the purpose of conditional statements in Python?\n",
        " - Conditional statements in Python enable programs to make decisions and execute different code blocks based on whether specific conditions are met. These statements control the flow of execution, allowing for dynamic and responsive behavior. The primary conditional statements in Python are if, elif (else if), and nested else.\n",
        "\n",
        "12.  How does the elif statement work?\n",
        " - If the first condition is false, it moves on to the next “elif” statement to check if that condition is true.\n",
        "\n",
        "13. What is the difference between for and while loops?\n",
        " - The primary difference between for and while loops lies in when the number of iterations is known beforehand. for loops are best suited for situations where you know exactly how many times the loop will execute, often when iterating over a collection or sequence. while loops, on the other hand, are more flexible and used when the number of iterations is unknown and depends on a dynamic condition.\n",
        "\n",
        "14. Describe a scenario where a while loop is more suitable than a for loop.\n",
        " - In programming, for loops are best used when you know the number of iterations ahead of time, whereas a while loop is best used when you don't know the number of iterations in advance. Both methods can help you iterate through your code.\n",
        "\n",
        "\n"
      ],
      "metadata": {
        "id": "0dS4uMNpOQZw"
      }
    },
    {
      "cell_type": "markdown",
      "source": [
        "# PRACTICAL QUESTION\n",
        "\n",
        "1. Write a Python program to print \"Hello, World!\"?\n",
        "\n",
        "\n",
        "\n"
      ],
      "metadata": {
        "id": "1LJg_iBXcbj1"
      }
    },
    {
      "cell_type": "code",
      "execution_count": null,
      "metadata": {
        "id": "vyieHe-sNjGe"
      },
      "outputs": [],
      "source": [
        "print (\"Hello,World\")"
      ]
    },
    {
      "cell_type": "markdown",
      "source": [
        "2. Write a Python program that displays your name and age."
      ],
      "metadata": {
        "id": "VdEV6KtoKFnK"
      }
    },
    {
      "cell_type": "code",
      "source": [
        "print ('Name- Hrishabh Sandilya')\n",
        "print ('Age - 24')"
      ],
      "metadata": {
        "id": "_JUjYIBRJ0b_"
      },
      "execution_count": null,
      "outputs": []
    },
    {
      "cell_type": "markdown",
      "source": [
        "3. Write code to print all the pre-defined keywords in Python using the keyword library."
      ],
      "metadata": {
        "id": "0veZzRPVKwyw"
      }
    },
    {
      "cell_type": "code",
      "source": [
        "help('keywords')"
      ],
      "metadata": {
        "id": "OoPd-K08Krln"
      },
      "execution_count": null,
      "outputs": []
    },
    {
      "cell_type": "markdown",
      "source": [
        "4. Write a program that checks if a given word is a Python keyword."
      ],
      "metadata": {
        "id": "Prnq-oyeLTGe"
      }
    },
    {
      "cell_type": "code",
      "source": [
        "word1 = \"hello\"\n",
        "word2 = \"world\"\n",
        "\n",
        "if (word1):\n",
        "  print(f\"'{word1}' is a Python keyword.\")\n",
        "else:\n",
        "  print(f\"'{word1}' is not a Python keyword.\")\n",
        "\n",
        "if (word2):\n",
        "  print(f\"'{word2}' is a Python keyword.\")\n",
        "else:\n",
        "  print(f\"'{word2}' is not a Python keyword.\")"
      ],
      "metadata": {
        "id": "f7yqqeblNYx6"
      },
      "execution_count": null,
      "outputs": []
    },
    {
      "cell_type": "markdown",
      "source": [
        " 5.  Create a list and tuple in Python, and demonstrate how attempting to change an element works differently for each."
      ],
      "metadata": {
        "id": "7uDJf1q8OZGT"
      }
    },
    {
      "cell_type": "code",
      "source": [
        "# create a list\n",
        "my_list = [1, 2, 3, 4, 5]\n",
        "\n",
        "my_list[1] = 10\n",
        "print(my_list)"
      ],
      "metadata": {
        "id": "jfKUmut5OYLw"
      },
      "execution_count": null,
      "outputs": []
    },
    {
      "cell_type": "code",
      "source": [
        "#  Create a tuple\n",
        "my_tuple = (1, 2, 3, 4, 5)\n",
        "print(my_tuple)\n",
        "\n",
        "# Attempt to modify an element in the tuple\n",
        "Error: 'tuple' object does not support item assignment\n",
        "\n"
      ],
      "metadata": {
        "id": "wk0NlxkCOX8c"
      },
      "execution_count": null,
      "outputs": []
    },
    {
      "cell_type": "markdown",
      "source": [
        "6. Write a function to demonstrate the behavior of mutable and immutable arguments."
      ],
      "metadata": {
        "id": "j82EH7fORY27"
      }
    },
    {
      "cell_type": "markdown",
      "source": [
        "Immutable >> Immutable Objects are of in-built datatypes like int, float, bool, string, Unicode, and tuple. In simple words, an immutable object can’t be changed after it is created.\n",
        "\n",
        "Mutable >> Mutable Objects are of type Python list, Python dict, or Python set. Custom classes are generally mutable.  "
      ],
      "metadata": {
        "id": "VbBGzY6Gm5a5"
      }
    },
    {
      "cell_type": "code",
      "source": [
        "my_list = [1, 2, 3]\n",
        "my_list.append(4)\n",
        "print(my_list)\n",
        "\n",
        "my_list.insert(1, 5)\n",
        "print(my_list)\n",
        "\n",
        "my_list.remove(2)\n",
        "print(my_list)\n",
        "\n",
        "popped_element = my_list.pop(0)\n",
        "print(my_list)\n",
        "print(popped_element)"
      ],
      "metadata": {
        "id": "W5qf711XQVCm"
      },
      "execution_count": null,
      "outputs": []
    },
    {
      "cell_type": "markdown",
      "source": [
        "7. Write a program that performs basic arithmetic operations on two user-input numbers."
      ],
      "metadata": {
        "id": "qBJ2j8Pan6y9"
      }
    },
    {
      "cell_type": "code",
      "source": [
        "a=3\n",
        "b=5\n",
        "a+b"
      ],
      "metadata": {
        "id": "MKsDie1ynrhg"
      },
      "execution_count": null,
      "outputs": []
    },
    {
      "cell_type": "code",
      "source": [
        "a=5\n",
        "b=3\n",
        "a-b"
      ],
      "metadata": {
        "id": "n1J6kzPioXYK"
      },
      "execution_count": null,
      "outputs": []
    },
    {
      "cell_type": "code",
      "source": [
        "a=5\n",
        "b=3\n",
        "a*b\n",
        "b=5\n",
        "a*b"
      ],
      "metadata": {
        "id": "wg2Awv_IouhR"
      },
      "execution_count": null,
      "outputs": []
    },
    {
      "cell_type": "code",
      "source": [
        "a=10\n",
        "b=5\n",
        "a/b"
      ],
      "metadata": {
        "id": "wBpxUvl-paEL"
      },
      "execution_count": null,
      "outputs": []
    },
    {
      "cell_type": "code",
      "source": [
        "21 % 4"
      ],
      "metadata": {
        "id": "oMhqHxLbprWP"
      },
      "execution_count": null,
      "outputs": []
    },
    {
      "cell_type": "code",
      "source": [
        "2**5"
      ],
      "metadata": {
        "id": "HDV_i6pzqE1V"
      },
      "execution_count": null,
      "outputs": []
    },
    {
      "cell_type": "code",
      "source": [
        "4//3"
      ],
      "metadata": {
        "id": "Ihkf-tTjqImY"
      },
      "execution_count": null,
      "outputs": []
    },
    {
      "cell_type": "markdown",
      "source": [
        "8. Write a program to demonstrate the use of logical operators."
      ],
      "metadata": {
        "id": "bh7DaMpbqrjf"
      }
    },
    {
      "cell_type": "code",
      "source": [
        "\n",
        " ('true') and ('true')"
      ],
      "metadata": {
        "id": "eAYZIUUkrk5T"
      },
      "execution_count": null,
      "outputs": []
    },
    {
      "cell_type": "code",
      "source": [
        "('false') or ('true')"
      ],
      "metadata": {
        "id": "dPgnSliFsow8"
      },
      "execution_count": null,
      "outputs": []
    },
    {
      "cell_type": "code",
      "source": [
        "('true') and ('false')"
      ],
      "metadata": {
        "id": "MeIrAlYgs3K8"
      },
      "execution_count": null,
      "outputs": []
    },
    {
      "cell_type": "code",
      "source": [
        "('false') and ('false')"
      ],
      "metadata": {
        "id": "EQlJrOpZs846"
      },
      "execution_count": null,
      "outputs": []
    },
    {
      "cell_type": "code",
      "source": [
        "\n",
        " ('true') or ('true')"
      ],
      "metadata": {
        "id": "Wb-EQqC1s_LN"
      },
      "execution_count": null,
      "outputs": []
    },
    {
      "cell_type": "code",
      "source": [
        "\n",
        " ('true') or ('false')"
      ],
      "metadata": {
        "id": "suvXeY11tP1Q"
      },
      "execution_count": null,
      "outputs": []
    },
    {
      "cell_type": "code",
      "source": [
        "('false') or ('false')"
      ],
      "metadata": {
        "id": "CxlZKvAWt1Zc"
      },
      "execution_count": null,
      "outputs": []
    },
    {
      "cell_type": "code",
      "source": [
        "('false') or ('true')"
      ],
      "metadata": {
        "id": "PGz8jGRKuAQE"
      },
      "execution_count": null,
      "outputs": []
    },
    {
      "cell_type": "code",
      "source": [],
      "metadata": {
        "id": "80bpYuXOuiGj"
      },
      "execution_count": null,
      "outputs": []
    },
    {
      "cell_type": "markdown",
      "source": [
        "9. Write a Python program to convert user input from string to integer, float, and boolean types."
      ],
      "metadata": {
        "id": "P2dZvnB2u1MZ"
      }
    },
    {
      "cell_type": "code",
      "source": [
        "\n",
        "a='2'\n",
        "print(type (a))\n",
        "print(type(int(a)))"
      ],
      "metadata": {
        "id": "dxkAqBa4u49g"
      },
      "execution_count": null,
      "outputs": []
    },
    {
      "cell_type": "code",
      "source": [
        "\n",
        "a=3.4\n",
        "type(a)"
      ],
      "metadata": {
        "id": "qoZYAcj6vzof"
      },
      "execution_count": null,
      "outputs": []
    },
    {
      "cell_type": "code",
      "source": [
        "int(a)\n"
      ],
      "metadata": {
        "id": "YxoGVuiywVQh"
      },
      "execution_count": null,
      "outputs": []
    },
    {
      "cell_type": "code",
      "source": [
        "b= 6.78\n",
        "type(b)\n",
        "float_value=int(b)\n",
        "type(float_value)"
      ],
      "metadata": {
        "id": "yCBLyUqhwa74"
      },
      "execution_count": null,
      "outputs": []
    },
    {
      "cell_type": "code",
      "source": [
        "\n",
        "a=2\n",
        "type (a)"
      ],
      "metadata": {
        "id": "pvvK70DDw7sj"
      },
      "execution_count": null,
      "outputs": []
    },
    {
      "cell_type": "code",
      "source": [
        "b= float(a)\n",
        "b"
      ],
      "metadata": {
        "id": "xW-eeABcxC-L"
      },
      "execution_count": null,
      "outputs": []
    },
    {
      "cell_type": "code",
      "source": [
        "type(b)"
      ],
      "metadata": {
        "id": "uxei_f-BxJkt"
      },
      "execution_count": null,
      "outputs": []
    },
    {
      "cell_type": "code",
      "source": [
        "\n",
        "a= '2.3'\n",
        "type(a)"
      ],
      "metadata": {
        "id": "MKYHOjKqxMd5"
      },
      "execution_count": null,
      "outputs": []
    },
    {
      "cell_type": "code",
      "source": [
        "b= float(a)\n",
        "type(b)"
      ],
      "metadata": {
        "id": "pP-zCrCBxmJZ"
      },
      "execution_count": null,
      "outputs": []
    },
    {
      "cell_type": "code",
      "source": [
        "\n",
        "a=5\n",
        "type(a)"
      ],
      "metadata": {
        "id": "qEtCdJzjyQ-W"
      },
      "execution_count": null,
      "outputs": []
    },
    {
      "cell_type": "code",
      "source": [
        "a"
      ],
      "metadata": {
        "id": "XBBVdD14yIg3"
      },
      "execution_count": null,
      "outputs": []
    },
    {
      "cell_type": "code",
      "source": [
        "str(a)\n"
      ],
      "metadata": {
        "id": "qQK3ZyfSyp8I"
      },
      "execution_count": null,
      "outputs": []
    },
    {
      "cell_type": "code",
      "source": [
        "\n",
        "bool(0)"
      ],
      "metadata": {
        "id": "z2DMlTRRznvD"
      },
      "execution_count": null,
      "outputs": []
    },
    {
      "cell_type": "code",
      "source": [
        "bool(100)"
      ],
      "metadata": {
        "id": "z-atDgsizrkm"
      },
      "execution_count": null,
      "outputs": []
    },
    {
      "cell_type": "code",
      "source": [
        "bool ('hrishabh')"
      ],
      "metadata": {
        "id": "oHJ_mf0Ezypm"
      },
      "execution_count": null,
      "outputs": []
    },
    {
      "cell_type": "code",
      "source": [
        "bool(\"\")"
      ],
      "metadata": {
        "id": "vHGadZomz4wE"
      },
      "execution_count": null,
      "outputs": []
    },
    {
      "cell_type": "markdown",
      "source": [
        "10. Write code to demonstrate type casting with list elements."
      ],
      "metadata": {
        "id": "ysrJO9n0zEtw"
      }
    },
    {
      "cell_type": "code",
      "source": [
        "my_list = [\"1\", \"2\", \"3\", \"4\"]\n",
        "print(\"Original list:\", my_list)\n",
        "print(\"Data types of original list elements:\", [type(x) for x in my_list])\n",
        "\n",
        "\n"
      ],
      "metadata": {
        "id": "EyO0tmRk0eU1"
      },
      "execution_count": null,
      "outputs": []
    },
    {
      "cell_type": "markdown",
      "source": [
        "11. Write a program that checks if a number is positive, negative, or zero."
      ],
      "metadata": {
        "id": "hjzDOr793x0K"
      }
    },
    {
      "cell_type": "code",
      "source": [
        "a = 10\n",
        "if a>100:\n",
        "   print(\"positive\")\n",
        "elif a<100:\n",
        "   print(\"negative\")\n",
        "else:\n",
        "   print(\"zero\")"
      ],
      "metadata": {
        "id": "Peg3lfHY5Kw8"
      },
      "execution_count": null,
      "outputs": []
    },
    {
      "cell_type": "code",
      "source": [
        "a=10\n",
        "if a>0:\n",
        "  print(\"positive\")\n",
        "elif a<0:\n",
        "  print(\"negative\")\n",
        "else:\n",
        "  print(\"zero\")"
      ],
      "metadata": {
        "id": "peKPhPXX8Mae"
      },
      "execution_count": null,
      "outputs": []
    },
    {
      "cell_type": "code",
      "source": [
        "a=10\n",
        "if a>0:\n",
        "  print(\"positive\")\n",
        "elif a==10:\n",
        "  print(\"zero\")\n",
        "else:\n",
        "  print(\"negative\")"
      ],
      "metadata": {
        "id": "CNdN_mUz8dfU"
      },
      "execution_count": null,
      "outputs": []
    },
    {
      "cell_type": "markdown",
      "source": [
        "12. Write a for loop to print numbers from 1 to 10."
      ],
      "metadata": {
        "id": "kyf7cmde8_o6"
      }
    },
    {
      "cell_type": "code",
      "source": [
        "n=10\n",
        "i=1\n",
        "while i<n:\n",
        "  print(i)\n",
        "  i=i+1"
      ],
      "metadata": {
        "id": "w86yEy6T8tb2"
      },
      "execution_count": null,
      "outputs": []
    },
    {
      "cell_type": "markdown",
      "source": [
        "13. Write a Python program to find the sum of all even numbers between 1 and 50."
      ],
      "metadata": {
        "id": "S_0A-NS49pXD"
      }
    },
    {
      "cell_type": "code",
      "source": [
        "sum_of_evens = 0\n",
        "for number in range(2, 51, 2):\n",
        "    sum_of_evens += number\n",
        "print(f\"The sum of even numbers between 1 and 50 is: {sum_of_evens}\")"
      ],
      "metadata": {
        "id": "l-5PKJNq9o-w"
      },
      "execution_count": null,
      "outputs": []
    },
    {
      "cell_type": "markdown",
      "source": [],
      "metadata": {
        "id": "yiOIQLgbWqeo"
      }
    },
    {
      "cell_type": "markdown",
      "source": [
        "14. Write a program to reverse a string using a while loop."
      ],
      "metadata": {
        "id": "TBbNq5-5HPcK"
      }
    },
    {
      "cell_type": "code",
      "source": [
        "input_string = \"Hello, World!\"\n",
        "reversed_string = reverse_string(input_string)\n",
        "print(f\"Original string: {input_string}\")\n",
        "print(f\"Reversed string: {reversed_string}\")"
      ],
      "metadata": {
        "id": "sgV1cflM9jFm"
      },
      "execution_count": null,
      "outputs": []
    },
    {
      "cell_type": "markdown",
      "source": [
        "15. Write a Python program to calculate the factorial of a number provided by the user using a while loop."
      ],
      "metadata": {
        "id": "vHUTDWb1IAvV"
      }
    },
    {
      "cell_type": "code",
      "source": [
        "n=7\n",
        "i=1\n",
        "while i<n:\n",
        "  print(i)\n",
        "  i=i+1\n",
        "else:\n",
        "  print(\"this will be executed when the while is run successfully without any break\")"
      ],
      "metadata": {
        "id": "5cKo-femHwAP"
      },
      "execution_count": null,
      "outputs": []
    },
    {
      "cell_type": "code",
      "source": [],
      "metadata": {
        "id": "k8_XGkesJpa2"
      },
      "execution_count": null,
      "outputs": []
    }
  ]
}